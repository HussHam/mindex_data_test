{
 "cells": [
  {
   "cell_type": "code",
   "execution_count": 19,
   "id": "4c1490ce",
   "metadata": {},
   "outputs": [],
   "source": [
    "import boto3\n",
    "import botocore\n",
    "import pandas as pd\n",
    "#declare bucket as a constant to use with AWS\n",
    "BUCKET = \"mindex-data-analytics-code-challenge\"\n",
    "\n",
    "#list of files to grab\n",
    "files = ['bengals.csv', 'boyd_receiving.csv', 'chase_receiving.csv', 'higgins_receiving.csv']\n",
    "\n",
    "#Ideally you'd want to use a DAO to handle connections\n",
    "#For the sake of simplicity, I'll handle this within some util functions\n",
    "\n",
    "#define the s3 resource object\n",
    "s3 = boto3.resource('s3')\n",
    "\n",
    "#Download util so I can take a look at the csv's locally\n",
    "def download_csv(files):\n",
    "    for file in files:\n",
    "        #Keep the files name the same as the key\n",
    "        try:\n",
    "            s3.Bucket(BUCKET).download_file(file,file)\n",
    "        except botocore.exceptions.ClientError as e:\n",
    "            print('error downloading ' + file)\n",
    "            print(e)\n",
    "\n",
    "#Util for placing csv directly into a dataframe from s3\n",
    "def get_dataframe(file):\n",
    "    #There are some optional libraries that would let you read in a DF like:\n",
    "    #pd.read_csv('s3://'+BUCKET+'/'+filename)\n",
    "    #Since I don't see the dependency listed, I grab the CSV using the boto3 resource\n",
    "    try:\n",
    "        csv = s3.Object(BUCKET,file)\n",
    "    except botocore.exceptions.ClientError as e:\n",
    "        #An example of a better way to handle logging an exception could be sending A SNS notification\n",
    "            print('error grabbing ' + file)\n",
    "            print(e)\n",
    "\n",
    "    return pd.read_csv(csv.get()['Body'])"
   ]
  },
  {
   "cell_type": "code",
   "execution_count": 9,
   "id": "f808772f",
   "metadata": {},
   "outputs": [],
   "source": [
    "#Just some code to download the csv's so I can check them out on my machine\n",
    "download_csv(files)"
   ]
  },
  {
   "cell_type": "code",
   "execution_count": 20,
   "id": "ca7100e4",
   "metadata": {},
   "outputs": [],
   "source": [
    "#load each csv into a dataframe\n",
    "bengals_record = get_dataframe(files[0])\n",
    "boyd_receiving = get_dataframe(files[1])\n",
    "chase_receiving = get_dataframe(files[2])\n",
    "higgins_receiving = get_dataframe(files[3])"
   ]
  },
  {
   "cell_type": "code",
   "execution_count": null,
   "id": "e2230039",
   "metadata": {},
   "outputs": [],
   "source": []
  }
 ],
 "metadata": {
  "kernelspec": {
   "display_name": "Python 3 (ipykernel)",
   "language": "python",
   "name": "python3"
  },
  "language_info": {
   "codemirror_mode": {
    "name": "ipython",
    "version": 3
   },
   "file_extension": ".py",
   "mimetype": "text/x-python",
   "name": "python",
   "nbconvert_exporter": "python",
   "pygments_lexer": "ipython3",
   "version": "3.8.10"
  }
 },
 "nbformat": 4,
 "nbformat_minor": 5
}

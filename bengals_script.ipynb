{
 "cells": [
  {
   "cell_type": "code",
   "execution_count": 19,
   "id": "ec63fdec",
   "metadata": {},
   "outputs": [],
   "source": [
    "import boto3\n",
    "import botocore\n",
    "import pandas as pd\n",
    "#declare bucket as a constant to use with AWS\n",
    "BUCKET = \"mindex-data-analytics-code-challenge\"\n",
    "\n",
    "#list of files to grab\n",
    "files = ['bengals.csv', 'boyd_receiving.csv', 'chase_receiving.csv', 'higgins_receiving.csv']\n",
    "\n",
    "#Ideally you'd want to use a DAO to handle connections\n",
    "#For the sake of simplicity, I'll handle this within some util functions\n",
    "\n",
    "#define the s3 resource object\n",
    "s3 = boto3.resource('s3')\n",
    "\n",
    "#Download util so I can take a look at the csv's locally\n",
    "def download_csv(files):\n",
    "    for file in files:\n",
    "        #Keep the files name the same as the key\n",
    "        try:\n",
    "            s3.Bucket(BUCKET).download_file(file,file)\n",
    "        except botocore.exceptions.ClientError as e:\n",
    "            print('error downloading ' + file)\n",
    "            print(e)\n",
    "\n",
    "#Util for placing csv directly into a dataframe from s3\n",
    "def get_dataframe(file):\n",
    "    #There are some optional libraries that would let you read in a DF like:\n",
    "    #pd.read_csv('s3://'+BUCKET+'/'+filename)\n",
    "    #Since I don't see the dependency listed, I grab the CSV using the boto3 resource\n",
    "    try:\n",
    "        csv = s3.Object(BUCKET,file)\n",
    "    except botocore.exceptions.ClientError as e:\n",
    "        #An example of a better way to handle logging an exception could be sending A SNS notification\n",
    "            print('error grabbing ' + file)\n",
    "            print(e)\n",
    "\n",
    "    return pd.read_csv(csv.get()['Body'])"
   ]
  },
  {
   "cell_type": "code",
   "execution_count": 9,
   "id": "d08e156e",
   "metadata": {},
   "outputs": [],
   "source": [
    "#Just some code to download the csv's so I can check them out on my machine\n",
    "download_csv(files)"
   ]
  },
  {
   "cell_type": "code",
   "execution_count": 17,
   "id": "d51e21fc",
   "metadata": {},
   "outputs": [
    {
     "name": "stdout",
     "output_type": "stream",
     "text": [
      "   Week Opponent Location  Result\n",
      "0  PRE1       TB     Away     1.0\n",
      "1  PRE2      WSH     Away     0.0\n",
      "2  PRE3      MIA     Home     0.0\n",
      "3  REG1      MIN     Home     1.0\n",
      "4  REG2      CHI     Away     0.0\n",
      "5  REG3      PIT     Away     1.0\n",
      "6  REG4      JAX     Home     1.0\n",
      "7  REG5       GB     Home     0.0\n",
      "8  REG6      DET     Away     1.0\n",
      "9  REG7      BAL     Away     1.0\n"
     ]
    }
   ],
   "source": [
    "#load each csv into a dataframe\n",
    "bengals_record = get_dataframe(files[0])\n",
    "boyd_receiving = get_dataframe(files[1])\n",
    "chase_receiving = get_dataframe(files[2])\n",
    "higgins_receiving = get_dataframe(files[3])"
   ]
  },
  {
   "cell_type": "code",
   "execution_count": null,
   "id": "f23d1c26",
   "metadata": {},
   "outputs": [],
   "source": []
  }
 ],
 "metadata": {
  "kernelspec": {
   "display_name": "Python 3 (ipykernel)",
   "language": "python",
   "name": "python3"
  },
  "language_info": {
   "codemirror_mode": {
    "name": "ipython",
    "version": 3
   },
   "file_extension": ".py",
   "mimetype": "text/x-python",
   "name": "python",
   "nbconvert_exporter": "python",
   "pygments_lexer": "ipython3",
   "version": "3.8.10"
  }
 },
 "nbformat": 4,
 "nbformat_minor": 5
}
